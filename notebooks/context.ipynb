{
 "cells": [
  {
   "cell_type": "markdown",
   "metadata": {},
   "source": [
    "# Comparisons with Context"
   ]
  },
  {
   "cell_type": "markdown",
   "metadata": {},
   "source": [
    "In **nettlesome**, logical comparisons between Statements and other Factors can depend on whether the Terms of the Statements are considered analagous to one another. In the example below, the two phrases can be considered to have the same meaning because the Terms of each Statement can be \"matched\" to one another."
   ]
  },
  {
   "cell_type": "code",
   "execution_count": 1,
   "metadata": {},
   "outputs": [
    {
     "name": "stdout",
     "output_type": "stream",
     "text": [
      "the statement that <Aphrodite> cursed <Narcissus>\n"
     ]
    }
   ],
   "source": [
    "from nettlesome import Statement, Entity\n",
    "\n",
    "hades_curse = Statement(\"$deity cursed $target\", terms=[Entity(\"Hades\"), Entity(\"Persephone\")])\n",
    "aphrodite_curse = Statement(\"$deity cursed $target\", terms=[Entity(\"Aphrodite\"), Entity(\"Narcissus\")])\n",
    "print(aphrodite_curse)"
   ]
  },
  {
   "cell_type": "markdown",
   "metadata": {},
   "source": [
    "The Statement.means() method is used to determine whether two Statements have the same meaning."
   ]
  },
  {
   "cell_type": "code",
   "execution_count": 2,
   "metadata": {},
   "outputs": [
    {
     "data": {
      "text/plain": [
       "True"
      ]
     },
     "execution_count": 2,
     "metadata": {},
     "output_type": "execute_result"
    }
   ],
   "source": [
    "hades_curse.means(aphrodite_curse)"
   ]
  },
  {
   "cell_type": "markdown",
   "metadata": {},
   "source": [
    "The Statement.explain_same_meaning method generates an Explanation object explaining why the two Statements can be considered to have the same meaning."
   ]
  },
  {
   "cell_type": "code",
   "execution_count": 3,
   "metadata": {},
   "outputs": [
    {
     "name": "stdout",
     "output_type": "stream",
     "text": [
      "Because <Hades> is like <Aphrodite>, and <Persephone> is like <Narcissus>,\n",
      "  the statement that <Hades> cursed <Persephone>\n",
      "MEANS\n",
      "  the statement that <Aphrodite> cursed <Narcissus>\n"
     ]
    }
   ],
   "source": [
    "print(hades_curse.explain_same_meaning(aphrodite_curse))"
   ]
  },
  {
   "cell_type": "markdown",
   "metadata": {},
   "source": [
    "## Formatting Contexts for Comparison Methods"
   ]
  },
  {
   "cell_type": "markdown",
   "metadata": {},
   "source": [
    "But what if the two Statements need to be compared in a context where it has been established that Hades is more comparable to Narcissus, not to Aphrodite? That changes the meaning of the second Statement and indicates that the two statements don't have the same meaning. To add that context information in **nettlesome**, use the ``context`` parameter of the .means() method. One input format for the ``context`` parameter is a Tuple of two Lists, with the first List containing Terms from the Statement on the left, and the second List containing the corresponding Terms from the Statement on the Right. (This means that the two lists will need to be the same length.) In this example, there's a one-item List containing Hades, matched to a one-item List containing Narcissus. The value returned by the .means() method is now `False` instead of `True`."
   ]
  },
  {
   "cell_type": "code",
   "execution_count": 4,
   "metadata": {},
   "outputs": [
    {
     "data": {
      "text/plain": [
       "False"
      ]
     },
     "execution_count": 4,
     "metadata": {},
     "output_type": "execute_result"
    }
   ],
   "source": [
    "hades_curse.means(aphrodite_curse, context=([Entity(\"Hades\")], [Entity(\"Narcissus\")]))"
   ]
  },
  {
   "cell_type": "markdown",
   "metadata": {},
   "source": [
    "Maybe it seems more natural to use a Python Dict, instead of a Tuple of two Lists, to match pairs of corresponding Terms. (A Python Dict is a mapping of keys to values.) A Dict can be used for the ``context`` parameter, but there's a complication: a nettlesome Entity is not a valid Dict key in Python. Here's what happens if you try to use an Entity directly as a Dict key, and then try to retrieve the value stored under that key."
   ]
  },
  {
   "cell_type": "code",
   "execution_count": 5,
   "metadata": {},
   "outputs": [
    {
     "ename": "KeyError",
     "evalue": "Entity(name=\"Hades\", generic=True, plural=False)",
     "output_type": "error",
     "traceback": [
      "\u001b[0;31m---------------------------------------------------------------------------\u001b[0m",
      "\u001b[0;31mKeyError\u001b[0m                                  Traceback (most recent call last)",
      "\u001b[0;32m<ipython-input-5-75ea1b988416>\u001b[0m in \u001b[0;36m<module>\u001b[0;34m\u001b[0m\n\u001b[1;32m      1\u001b[0m \u001b[0mmyths\u001b[0m \u001b[0;34m=\u001b[0m \u001b[0;34m{\u001b[0m\u001b[0mEntity\u001b[0m\u001b[0;34m(\u001b[0m\u001b[0;34m\"Hades\"\u001b[0m\u001b[0;34m)\u001b[0m\u001b[0;34m:\u001b[0m \u001b[0mEntity\u001b[0m\u001b[0;34m(\u001b[0m\u001b[0;34m\"Narcissus\"\u001b[0m\u001b[0;34m)\u001b[0m\u001b[0;34m}\u001b[0m\u001b[0;34m\u001b[0m\u001b[0;34m\u001b[0m\u001b[0m\n\u001b[0;32m----> 2\u001b[0;31m \u001b[0mmyths\u001b[0m\u001b[0;34m[\u001b[0m\u001b[0mEntity\u001b[0m\u001b[0;34m(\u001b[0m\u001b[0;34m\"Hades\"\u001b[0m\u001b[0;34m)\u001b[0m\u001b[0;34m]\u001b[0m\u001b[0;34m\u001b[0m\u001b[0;34m\u001b[0m\u001b[0m\n\u001b[0m",
      "\u001b[0;31mKeyError\u001b[0m: Entity(name=\"Hades\", generic=True, plural=False)"
     ]
    }
   ],
   "source": [
    "myths = {Entity(\"Hades\"): Entity(\"Narcissus\")}\n",
    "myths[Entity(\"Hades\")]"
   ]
  },
  {
   "cell_type": "markdown",
   "metadata": {},
   "source": [
    "So instead of passing in the Entity itself as a Dict key, we'll pass in the .key property of the Entity."
   ]
  },
  {
   "cell_type": "code",
   "execution_count": 6,
   "metadata": {},
   "outputs": [
    {
     "data": {
      "text/plain": [
       "False"
      ]
     },
     "execution_count": 6,
     "metadata": {},
     "output_type": "execute_result"
    }
   ],
   "source": [
    "hades_curse.means(aphrodite_curse, context=({Entity(\"Hades\").key: Entity(\"Narcissus\")}))"
   ]
  },
  {
   "cell_type": "markdown",
   "metadata": {},
   "source": [
    "If neither of the options above is convenient, a third alternative is to skip identifying any Terms from the left Statement, and instead provide one List with matching Terms for all of the left Statement's .generic_terms(). To understand this, let's see what the Statement's .generic_terms() are. As mentioned in the Introduction to Nettlesome tutorial, generic Terms are Terms used as an example or stand-in for a broader category, so that a different generic Term can be substituted without changing the meaning of the Statement."
   ]
  },
  {
   "cell_type": "code",
   "execution_count": 7,
   "metadata": {},
   "outputs": [
    {
     "data": {
      "text/plain": [
       "[Entity(name=\"Hades\", generic=True, plural=False),\n",
       " Entity(name=\"Persephone\", generic=True, plural=False)]"
      ]
     },
     "execution_count": 7,
     "metadata": {},
     "output_type": "execute_result"
    }
   ],
   "source": [
    "hades_curse.generic_terms()"
   ]
  },
  {
   "cell_type": "markdown",
   "metadata": {},
   "source": [
    "This time, we'll provide the correct Entities that match to the Entities of `hades_curse`, so the .means() method will return `True`."
   ]
  },
  {
   "cell_type": "code",
   "execution_count": 8,
   "metadata": {},
   "outputs": [
    {
     "data": {
      "text/plain": [
       "True"
      ]
     },
     "execution_count": 8,
     "metadata": {},
     "output_type": "execute_result"
    }
   ],
   "source": [
    "hades_curse.means(aphrodite_curse, context=([Entity(\"Aphrodite\"), Entity(\"Narcissus\")]))"
   ]
  },
  {
   "cell_type": "markdown",
   "metadata": {},
   "source": [
    "## Comparing FactorGroups in Context"
   ]
  },
  {
   "cell_type": "markdown",
   "metadata": {},
   "source": [
    "Like Statements, FactorGroups can be compared to one another using the implies(), means(), contradicts(), and consistent_with() methods. In this example, the `nafta` FactorGroup describes three countries all making bilateral agreements with one another. The `brexit` FactorGroup describes one country making treaties with two other countries that do not make a treaty with each other. These two FactorGroups are considered to \"contradict\" one another, because if the Statements in `brexit` were asserted about the parties in `nafta`, there would be a conflict about whether one pair of Entities signed a treaty with each other."
   ]
  },
  {
   "cell_type": "code",
   "execution_count": 9,
   "metadata": {},
   "outputs": [
    {
     "data": {
      "text/plain": [
       "True"
      ]
     },
     "execution_count": 9,
     "metadata": {},
     "output_type": "execute_result"
    }
   ],
   "source": [
    "from nettlesome import FactorGroup\n",
    "\n",
    "nafta = FactorGroup([\n",
    "    Statement(\"$country1 signed a treaty with $country2\", \n",
    "              terms=[Entity(\"Mexico\"), Entity(\"USA\")]),\n",
    "    Statement(\"$country2 signed a treaty with $country3\", \n",
    "              terms=[Entity(\"USA\"), Entity(\"Canada\")]),\n",
    "    Statement(\"$country3 signed a treaty with $country1\", \n",
    "          terms=[Entity(\"USA\"), Entity(\"Canada\")]),\n",
    "])\n",
    "brexit = FactorGroup([\n",
    "    Statement(\"$country1 signed a treaty with $country2\", \n",
    "              terms=[Entity(\"UK\"), Entity(\"European Union\")]),\n",
    "    Statement(\"$country2 signed a treaty with $country3\", \n",
    "              terms=[Entity(\"European Union\"), Entity(\"Germany\")]),\n",
    "    Statement(\"$country3 signed a treaty with $country1\", \n",
    "          terms=[Entity(\"Germany\"), Entity(\"UK\")], truth=False),\n",
    "])\n",
    "nafta.contradicts(brexit)"
   ]
  },
  {
   "cell_type": "markdown",
   "metadata": {},
   "source": [
    "The .explain_contradiction method will generate one Explanation of how an analogy between the generic terms of the two FactorGroups can make them contradictory."
   ]
  },
  {
   "cell_type": "code",
   "execution_count": 10,
   "metadata": {},
   "outputs": [
    {
     "name": "stdout",
     "output_type": "stream",
     "text": [
      "Because <Mexico> is like <Germany>, and <USA> is like <UK>,\n",
      "  the statement that <Mexico> signed a treaty with <USA>\n",
      "CONTRADICTS\n",
      "  the statement it was false that <Germany> signed a treaty with <UK>\n"
     ]
    }
   ],
   "source": [
    "print(nafta.explain_contradiction(brexit))"
   ]
  },
  {
   "cell_type": "markdown",
   "metadata": {},
   "source": [
    "The explanations_contradiction method (with the plural \"explanations\" instead of \"explain\") returns a generator that will yield all available Explanations of how to cause a contradiction. In this case it generates four Explanations."
   ]
  },
  {
   "cell_type": "code",
   "execution_count": 11,
   "metadata": {},
   "outputs": [
    {
     "data": {
      "text/plain": [
       "4"
      ]
     },
     "execution_count": 11,
     "metadata": {},
     "output_type": "execute_result"
    }
   ],
   "source": [
    "all_explanations = list(nafta.explanations_contradiction(brexit))\n",
    "len(all_explanations)"
   ]
  },
  {
   "cell_type": "markdown",
   "metadata": {},
   "source": [
    "By adding a context parameter to the method that compares the FactorGroups for contradiction, we can narrow down how Nettlesome discovers analogies between the Entity objects. The result is that Nettlesome finds only two Explanations for how a contradiction can exist."
   ]
  },
  {
   "cell_type": "code",
   "execution_count": 12,
   "metadata": {},
   "outputs": [
    {
     "data": {
      "text/plain": [
       "2"
      ]
     },
     "execution_count": 12,
     "metadata": {},
     "output_type": "execute_result"
    }
   ],
   "source": [
    "explanations_usa_like_uk = list(nafta.explanations_contradiction(brexit, context=([Entity(\"USA\")], [Entity(\"UK\")])))\n",
    "len(explanations_usa_like_uk)"
   ]
  },
  {
   "cell_type": "markdown",
   "metadata": {},
   "source": [
    "Here are the two Explanations for how a contradiction can exist if the Entity \"USA\" in `left` is considered analagous to the Entity \"UK\" in `right`."
   ]
  },
  {
   "cell_type": "code",
   "execution_count": 13,
   "metadata": {},
   "outputs": [
    {
     "name": "stdout",
     "output_type": "stream",
     "text": [
      "Because <USA> is like <UK>, and <Mexico> is like <Germany>,\n",
      "  the statement that <Mexico> signed a treaty with <USA>\n",
      "CONTRADICTS\n",
      "  the statement it was false that <Germany> signed a treaty with <UK>\n"
     ]
    }
   ],
   "source": [
    "print(explanations_usa_like_uk[0])"
   ]
  },
  {
   "cell_type": "code",
   "execution_count": 14,
   "metadata": {},
   "outputs": [
    {
     "name": "stdout",
     "output_type": "stream",
     "text": [
      "Because <USA> is like <UK>, and <Canada> is like <Germany>,\n",
      "  the statement that <USA> signed a treaty with <Canada>\n",
      "CONTRADICTS\n",
      "  the statement it was false that <Germany> signed a treaty with <UK>\n"
     ]
    }
   ],
   "source": [
    "print(explanations_usa_like_uk[1])"
   ]
  }
 ],
 "metadata": {
  "kernelspec": {
   "display_name": "venvn",
   "language": "python",
   "name": "venvn"
  },
  "language_info": {
   "codemirror_mode": {
    "name": "ipython",
    "version": 3
   },
   "file_extension": ".py",
   "mimetype": "text/x-python",
   "name": "python",
   "nbconvert_exporter": "python",
   "pygments_lexer": "ipython3",
   "version": "3.9.0"
  }
 },
 "nbformat": 4,
 "nbformat_minor": 4
}
