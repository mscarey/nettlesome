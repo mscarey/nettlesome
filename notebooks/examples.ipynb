{
 "cells": [
  {
   "cell_type": "markdown",
   "metadata": {},
   "source": [
    "# Examples"
   ]
  },
  {
   "cell_type": "markdown",
   "metadata": {},
   "source": [
    "Use this notebook to test the behavior of examples from the Nettlesome documentation."
   ]
  },
  {
   "cell_type": "markdown",
   "metadata": {},
   "source": [
    "## Statements about Distance"
   ]
  },
  {
   "cell_type": "code",
   "execution_count": 1,
   "metadata": {},
   "outputs": [
    {
     "data": {
      "text/plain": [
       "'the statement that the distance from <the political convention> to <the free speech zone> was greater than 100 yard'"
      ]
     },
     "execution_count": 1,
     "metadata": {},
     "output_type": "execute_result"
    }
   ],
   "source": [
    "from nettlesome import Comparison, Entity, Statement\n",
    "\n",
    "over_100y = Comparison(\"the distance from $site1 to $site2 was\", sign=\">\", expression=\"100 yards\")\n",
    "under_1mi = Comparison(\"the distance from $site1 to $site2 was\", sign=\"<\", expression=\"1 mile\")\n",
    "under_2km = Comparison(\"the distance from $site1 to $site2 was\", sign=\"<\", expression=\"2 kilometers\")\n",
    "\n",
    "meeting = Entity(\"the political convention\")\n",
    "protest = Entity(\"the free speech zone\")\n",
    "\n",
    "over_100y_to_protest = Statement(over_100y, terms=[meeting, protest])\n",
    "under_1mi_to_protest = Statement(under_1mi, terms=[protest, meeting])\n",
    "under_2km_to_protest = Statement(under_2km, terms=[meeting, protest])\n",
    "\n",
    "str(over_100y_to_protest)"
   ]
  },
  {
   "cell_type": "code",
   "execution_count": 2,
   "metadata": {},
   "outputs": [
    {
     "data": {
      "text/plain": [
       "'the statement that the distance from <the free speech zone> to <the political convention> was less than 1 mile'"
      ]
     },
     "execution_count": 2,
     "metadata": {},
     "output_type": "execute_result"
    }
   ],
   "source": [
    "str(under_1mi_to_protest)"
   ]
  },
  {
   "cell_type": "code",
   "execution_count": 3,
   "metadata": {},
   "outputs": [
    {
     "data": {
      "text/plain": [
       "'the statement that the distance from <the political convention> to <the free speech zone> was less than 2 kilometer'"
      ]
     },
     "execution_count": 3,
     "metadata": {},
     "output_type": "execute_result"
    }
   ],
   "source": [
    "str(under_2km_to_protest)"
   ]
  },
  {
   "cell_type": "code",
   "execution_count": 4,
   "metadata": {},
   "outputs": [
    {
     "data": {
      "text/plain": [
       "False"
      ]
     },
     "execution_count": 4,
     "metadata": {},
     "output_type": "execute_result"
    }
   ],
   "source": [
    "over_100y_to_protest.implies(under_1mi_to_protest)"
   ]
  },
  {
   "cell_type": "code",
   "execution_count": 5,
   "metadata": {},
   "outputs": [
    {
     "data": {
      "text/plain": [
       "True"
      ]
     },
     "execution_count": 5,
     "metadata": {},
     "output_type": "execute_result"
    }
   ],
   "source": [
    "under_1mi_to_protest.implies(under_2km_to_protest)"
   ]
  },
  {
   "cell_type": "code",
   "execution_count": 6,
   "metadata": {},
   "outputs": [
    {
     "data": {
      "text/plain": [
       "False"
      ]
     },
     "execution_count": 6,
     "metadata": {},
     "output_type": "execute_result"
    }
   ],
   "source": [
    "over_100y_to_protest.contradicts(under_1mi_to_protest)"
   ]
  },
  {
   "cell_type": "code",
   "execution_count": 7,
   "metadata": {},
   "outputs": [
    {
     "data": {
      "text/plain": [
       "True"
      ]
     },
     "execution_count": 7,
     "metadata": {},
     "output_type": "execute_result"
    }
   ],
   "source": [
    "at_least_1_mile = Comparison(\"the distance from $site1 to $site2 was\", sign=\">=\", expression=\"1 mile\")\n",
    "at_least_1mi_to_protest = Statement(at_least_1_mile, terms=[Entity(\"the political convention\"), Entity(\"the free speech zone\")])\n",
    "at_least_1mi_to_protest.contradicts(under_1mi_to_protest)"
   ]
  },
  {
   "cell_type": "code",
   "execution_count": null,
   "metadata": {},
   "outputs": [],
   "source": []
  }
 ],
 "metadata": {
  "kernelspec": {
   "display_name": "venvn",
   "language": "python",
   "name": "venvn"
  },
  "language_info": {
   "codemirror_mode": {
    "name": "ipython",
    "version": 3
   },
   "file_extension": ".py",
   "mimetype": "text/x-python",
   "name": "python",
   "nbconvert_exporter": "python",
   "pygments_lexer": "ipython3",
   "version": "3.9.0"
  }
 },
 "nbformat": 4,
 "nbformat_minor": 4
}
