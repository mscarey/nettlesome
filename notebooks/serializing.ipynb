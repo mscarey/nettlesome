{
 "cells": [
  {
   "cell_type": "markdown",
   "metadata": {},
   "source": [
    "# Serializing Nettlesome Data"
   ]
  },
  {
   "cell_type": "markdown",
   "metadata": {},
   "source": [
    "Nettlesome relies on [Marshmallow](https://marshmallow.readthedocs.io/en/stable/) for dumping and loading data (also known as \"serializing and deserializing\"). These methods will convert Nettlesome objects back and forth from a JSON format that can be easily transmitted over the web."
   ]
  },
  {
   "cell_type": "markdown",
   "metadata": {},
   "source": [
    "## Loading JSON Data"
   ]
  },
  {
   "cell_type": "markdown",
   "metadata": {},
   "source": [
    "When loading data from a JSON string or from a Python dictionary, Nettlesome's data schemas will apply some validation to check that the data has the right fields, and then load a Nettlesome object such as a Predicate, Statement, or Assertion. Here's an example of creating a Predicate from a JSON string."
   ]
  },
  {
   "cell_type": "markdown",
   "metadata": {},
   "source": [
    "First, create a schema by making an instance of the schema class named for the type of object you want to create. (The syntax for making an instance of a class is the class name followed by a pair of parentheses.)"
   ]
  },
  {
   "cell_type": "code",
   "execution_count": 1,
   "metadata": {},
   "outputs": [],
   "source": [
    "from nettlesome.schemas import PredicateSchema\n",
    "schema = PredicateSchema()"
   ]
  },
  {
   "cell_type": "markdown",
   "metadata": {},
   "source": [
    "If we were loading an object from a Python dictionary, we would use the `Schema.load` method. But when we load from a JSON string, we use `Schema.loads`. (The extra 's' at the end means 'string'.)"
   ]
  },
  {
   "cell_type": "code",
   "execution_count": 2,
   "metadata": {},
   "outputs": [
    {
     "data": {
      "text/plain": [
       "Predicate(template='$defendant stole ${victim}'s car', truth=False)"
      ]
     },
     "execution_count": 2,
     "metadata": {},
     "output_type": "execute_result"
    }
   ],
   "source": [
    "json_string = \"\"\"{\"content\": \"$defendant stole ${victim}'s car\",\"truth\": false}\"\"\"\n",
    "predicate = schema.loads(json_string)\n",
    "predicate"
   ]
  },
  {
   "cell_type": "code",
   "execution_count": 3,
   "metadata": {},
   "outputs": [
    {
     "data": {
      "text/plain": [
       "\"it was false that $defendant stole ${victim}'s car\""
      ]
     },
     "execution_count": 3,
     "metadata": {},
     "output_type": "execute_result"
    }
   ],
   "source": [
    "str(predicate)"
   ]
  },
  {
   "cell_type": "markdown",
   "metadata": {},
   "source": [
    "Note that Predicate and Comparison share the same schema, because Comparison is a subclass of Predicate."
   ]
  },
  {
   "cell_type": "code",
   "execution_count": 4,
   "metadata": {},
   "outputs": [
    {
     "data": {
      "text/plain": [
       "Comparison(template='the size of the farm was', truth=True, quantity_range=UnitRange(quantity=\"20 acre\", sign=\">\", include_negatives=False))"
      ]
     },
     "execution_count": 4,
     "metadata": {},
     "output_type": "execute_result"
    }
   ],
   "source": [
    "data = {\"content\": \"the size of the farm was\", \"sign\": \">\", \"expression\": \"20 acres\"}\n",
    "comparison = schema.load(data)\n",
    "comparison"
   ]
  },
  {
   "cell_type": "code",
   "execution_count": 5,
   "metadata": {},
   "outputs": [
    {
     "data": {
      "text/plain": [
       "'that the size of the farm was greater than 20 acre'"
      ]
     },
     "execution_count": 5,
     "metadata": {},
     "output_type": "execute_result"
    }
   ],
   "source": [
    "str(comparison)"
   ]
  },
  {
   "cell_type": "markdown",
   "metadata": {},
   "source": [
    "## Generating Schema Documentation"
   ]
  },
  {
   "cell_type": "markdown",
   "metadata": {},
   "source": [
    "Nettlesome can use the [apispec](https://github.com/marshmallow-code/apispec) library to automatically generate [OpenAPI](https://github.com/OAI/OpenAPI-Specification) documentation of what fields need to be passed to a schema to create a Nettlesome object. To use this feature, pass the Schema class you want to document to the `make_spec` function."
   ]
  },
  {
   "cell_type": "code",
   "execution_count": 6,
   "metadata": {},
   "outputs": [
    {
     "name": "stdout",
     "output_type": "stream",
     "text": [
      "<apispec.core.APISpec object at 0x7fa4ad641a30>\n"
     ]
    }
   ],
   "source": [
    "from nettlesome import make_spec\n",
    "spec = make_spec(PredicateSchema)\n",
    "print(spec)"
   ]
  },
  {
   "cell_type": "markdown",
   "metadata": {},
   "source": [
    "To actually read the schema specification, either use the `to_dict` method to get the specification as a Python object or use the `to_yaml` method to see it in the less cluttered YAML format."
   ]
  },
  {
   "cell_type": "code",
   "execution_count": 7,
   "metadata": {},
   "outputs": [
    {
     "name": "stdout",
     "output_type": "stream",
     "text": [
      "components:\n",
      "  schemas:\n",
      "    Predicate:\n",
      "      properties:\n",
      "        content:\n",
      "          type: string\n",
      "        expression:\n",
      "          default: null\n",
      "          nullable: true\n",
      "        sign:\n",
      "          default: null\n",
      "          enum:\n",
      "          - ''\n",
      "          - '>='\n",
      "          - ==\n",
      "          - '!='\n",
      "          - <=\n",
      "          - <>\n",
      "          - '>'\n",
      "          - <\n",
      "          nullable: true\n",
      "          type: string\n",
      "        truth:\n",
      "          default: true\n",
      "          type: boolean\n",
      "      type: object\n",
      "info:\n",
      "  description: Metadata tags designed for semantic comparisons\n",
      "  title: Nettlesome API Specification\n",
      "  version: 0.1.0\n",
      "openapi: 3.0.2\n",
      "paths: {}\n",
      "\n"
     ]
    }
   ],
   "source": [
    "print(spec.to_yaml())"
   ]
  },
  {
   "cell_type": "markdown",
   "metadata": {},
   "source": [
    "## Dumping Objects to JSON"
   ]
  },
  {
   "cell_type": "markdown",
   "metadata": {},
   "source": [
    "When you're ready to take data out of a Nettlesome object, you can either use `.dump` to convert it to a basic Python dictionary, or use `.dumps` to convert it directly to a JSON string. Here's an example of creating a Nettlesome Assertion object using Python, but then converting it to JSON."
   ]
  },
  {
   "cell_type": "code",
   "execution_count": 8,
   "metadata": {},
   "outputs": [
    {
     "name": "stdout",
     "output_type": "stream",
     "text": [
      "the assertion, by <Javert>, of the statement that <Valjean> stole bread\n"
     ]
    }
   ],
   "source": [
    "from nettlesome import Assertion, Statement, Entity\n",
    "\n",
    "fact = Statement(\"$suspect stole bread\", terms=Entity(\"Valjean\"))\n",
    "accusation = Assertion(statement=fact, authority=Entity(\"Javert\"))\n",
    "\n",
    "print(accusation)"
   ]
  },
  {
   "cell_type": "code",
   "execution_count": 9,
   "metadata": {},
   "outputs": [
    {
     "data": {
      "text/plain": [
       "'{\"generic\": false, \"statement\": {\"generic\": false, \"terms\": [{\"generic\": true, \"plural\": false, \"name\": \"Valjean\", \"type\": \"Entity\"}], \"absent\": false, \"predicate\": {\"content\": \"$suspect stole bread\", \"truth\": true, \"expression\": null}}, \"absent\": false, \"authority\": {\"generic\": true, \"plural\": false, \"name\": \"Javert\"}}'"
      ]
     },
     "execution_count": 9,
     "metadata": {},
     "output_type": "execute_result"
    }
   ],
   "source": [
    "from nettlesome.schemas import AssertionSchema\n",
    "\n",
    "schema = AssertionSchema()\n",
    "schema.dumps(accusation)"
   ]
  }
 ],
 "metadata": {
  "kernelspec": {
   "display_name": "venvn",
   "language": "python",
   "name": "venvn"
  },
  "language_info": {
   "codemirror_mode": {
    "name": "ipython",
    "version": 3
   },
   "file_extension": ".py",
   "mimetype": "text/x-python",
   "name": "python",
   "nbconvert_exporter": "python",
   "pygments_lexer": "ipython3",
   "version": "3.9.0"
  }
 },
 "nbformat": 4,
 "nbformat_minor": 4
}
