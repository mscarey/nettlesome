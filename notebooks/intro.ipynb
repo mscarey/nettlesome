{
 "cells": [
  {
   "cell_type": "markdown",
   "metadata": {},
   "source": [
    "# Introduction to Nettlesome"
   ]
  },
  {
   "cell_type": "markdown",
   "metadata": {},
   "source": [
    "Nettlesome is a Python library that lets you use readable English phrases as semantic tags for your data. Once you've created tags, Nettlesome can automate the process of comparing the tags to determine whether they have the \n",
    "*same meaning*, whether one tag *implies* another, whether one tag *contradicts* another, or whether one tag is *consistent with* another.\n",
    "\n",
    "This tutorial will show you how to use some of Nettlesome's basic classes: Predicates, Statements, and Comparisons."
   ]
  },
  {
   "cell_type": "markdown",
   "metadata": {},
   "source": [
    "## Predicates"
   ]
  },
  {
   "cell_type": "markdown",
   "metadata": {},
   "source": [
    "A Predicate should contain an English-language phrase in the past tense. (The past tense reflect's Nettlesome's original use case of legal analysis, which is usually backward-looking, determining the legal effect of past acts or past conditions.)\n",
    "\n",
    "To create a useful Predicate, you might remember from grade school that in a simple sentence the \"subject\" and any \"objects\" are typically nouns, while the \"predicate\" is a verb phrase that describes an action or relationship of those nouns. In Nettlesome the \"subject\" and \"objects\" are simply called \"Terms\", and they should be marked up using the placeholder syntax for Template Strings, which are a part of the Python standard library. Generally speaking, objects that are part of your data model should be designated as Terms, while other nouns that aren't relevant enough to be part of your data model don't need to be terms.\n",
    "\n",
    "For instance, this example might be a good Predicate for a data model about determining whether an individual is an owner or employee of a company:"
   ]
  },
  {
   "cell_type": "code",
   "execution_count": 1,
   "metadata": {},
   "outputs": [],
   "source": [
    "from nettlesome import Predicate\n",
    "\n",
    "account_for_company = Predicate(\"$applicant opened a bank account for $company\")"
   ]
  },
  {
   "cell_type": "markdown",
   "metadata": {},
   "source": [
    "Because `$applicant` and `$company` are marked as placeholders for Terms, you'll be able to add more data about those entities later. But notice that the \"bank account\" wasn't designated as a Term. That means you won't be able to link any more Statements about the company's specific bank account. That should be okay as long as your data model won't need to include specific details about bank accounts."
   ]
  },
  {
   "cell_type": "markdown",
   "metadata": {},
   "source": [
    "Predicates also have a `truth` attribute that can be used to establish that one Predicate `contradicts` another."
   ]
  },
  {
   "cell_type": "code",
   "execution_count": 2,
   "metadata": {},
   "outputs": [
    {
     "data": {
      "text/plain": [
       "'it was false that $applicant opened a bank account for $company'"
      ]
     },
     "execution_count": 2,
     "metadata": {},
     "output_type": "execute_result"
    }
   ],
   "source": [
    "no_account_for_company = Predicate(\"$applicant opened a bank account for $company\", truth=False)\n",
    "str(no_account_for_company)"
   ]
  },
  {
   "cell_type": "markdown",
   "metadata": {},
   "source": [
    "The `truth` attribute will become more significant as we build up to create more complex objects."
   ]
  },
  {
   "cell_type": "markdown",
   "metadata": {},
   "source": [
    "### Formatting Predicates"
   ]
  },
  {
   "cell_type": "markdown",
   "metadata": {},
   "source": [
    "The placeholders you choose always need to `$start_with_a_dollar_sign` and they need to be valid Python identifiers, which means they can't contain spaces. If a placeholder needs to be adjacent to a non-whitespace character, you also need to `${wrap_it_in_curly_braces}`.\n",
    "\n",
    "Don't use capitalization or end punctuation to signal the beginning or end of the phrase in a Predicate, because the phrase may be used in a context where it's only part of a longer sentence.\n",
    "\n",
    "As the example below shows, the use of different placeholders doesn't cause Predicates to be considered to have different meanings. "
   ]
  },
  {
   "cell_type": "code",
   "execution_count": 3,
   "metadata": {},
   "outputs": [
    {
     "data": {
      "text/plain": [
       "True"
      ]
     },
     "execution_count": 3,
     "metadata": {},
     "output_type": "execute_result"
    }
   ],
   "source": [
    "account_for_partnership = Predicate(\"$applicant opened a bank account for $partnership\")\n",
    "\n",
    "account_for_company.means(account_for_partnership)"
   ]
  },
  {
   "cell_type": "markdown",
   "metadata": {},
   "source": [
    "If you need to mention the same term more than once in a Predicate,\n",
    "use the same placeholder for that term each time. If you later create\n",
    "a Statement object using the same Predicate, you will only include each unique\n",
    "Term once, in the order they first appear.\n",
    "\n",
    "In this example, a Predicate's template has two placeholders referring to the identical Term.\n",
    "Even though the rest of the text is the same, the reuse of the same Term means that the Predicate has a different meaning."
   ]
  },
  {
   "cell_type": "code",
   "execution_count": 4,
   "metadata": {},
   "outputs": [
    {
     "data": {
      "text/plain": [
       "False"
      ]
     },
     "execution_count": 4,
     "metadata": {},
     "output_type": "execute_result"
    }
   ],
   "source": [
    "account_for_self = Predicate(\"$applicant opened a bank account for $applicant\")\n",
    "\n",
    "account_for_self.means(account_for_company)"
   ]
  },
  {
   "cell_type": "markdown",
   "metadata": {},
   "source": [
    "## Statements"
   ]
  },
  {
   "cell_type": "markdown",
   "metadata": {},
   "source": [
    "To put it simply, a Statement is a Predicate plus the Terms that need to be included to make the Statement a complete phrase."
   ]
  },
  {
   "cell_type": "code",
   "execution_count": 5,
   "metadata": {},
   "outputs": [
    {
     "data": {
      "text/plain": [
       "'the statement that <Sarah> opened a bank account for <Acme Corporation>'"
      ]
     },
     "execution_count": 5,
     "metadata": {},
     "output_type": "execute_result"
    }
   ],
   "source": [
    "from nettlesome import Statement, Entity\n",
    "\n",
    "statement = Statement(predicate=account_for_company, terms=[Entity(\"Sarah\"), Entity(\"Acme Corporation\")])\n",
    "str(statement)"
   ]
  },
  {
   "cell_type": "markdown",
   "metadata": {},
   "source": [
    "An Entity is a Term representing a person or thing. If you're lucky enough to be able to run effective Named Entity Recognition techniques on your dataset, you probably already have good candidates for the Entity objects that should be included in your Statements. The data model of an Entity in Nettlesome includes just a `name` attribute, an attribute indicating whether the Entity should be considered `generic`, and a `plural` attribute mainly used to determine whether the word \"was\" after the Entity should be replaced with \"were\"."
   ]
  },
  {
   "cell_type": "code",
   "execution_count": 6,
   "metadata": {},
   "outputs": [
    {
     "data": {
      "text/plain": [
       "'the statement it was false that <the students> were at school'"
      ]
     },
     "execution_count": 6,
     "metadata": {},
     "output_type": "execute_result"
    }
   ],
   "source": [
    "not_at_school = Predicate(\"$group were at school\", truth=False)\n",
    "plural_statement = Statement(not_at_school, terms=Entity(\"the students\", plural=True))\n",
    "str(plural_statement)"
   ]
  },
  {
   "cell_type": "code",
   "execution_count": 7,
   "metadata": {},
   "outputs": [
    {
     "data": {
      "text/plain": [
       "'the statement it was false that <Lee> was at school'"
      ]
     },
     "execution_count": 7,
     "metadata": {},
     "output_type": "execute_result"
    }
   ],
   "source": [
    "singular_statement = Statement(not_at_school, terms=Entity(\"Lee\", plural=False))\n",
    "str(singular_statement)"
   ]
  },
  {
   "cell_type": "markdown",
   "metadata": {},
   "source": [
    "The `generic` attribute is more subtle than the `plural` attribute. A Term should be marked as `generic` if it's really being used as a stand-in for a broader category. For instance, in `singular_statement` above, the fact that `<Lee>` is generic indicates that the Statement isn't really about a specific incident when Lee was not at school. Instead, it's more about the concept of not being at school. In Nettlesome, when angle brackets appear around the string representation of an object, that's an indication that the object is generic.\n",
    "\n",
    "If two Statements have different generic Terms but they're otherwise the same, they're still considered to have the same meaning as one another. That's the case even if one of the Terms is plural while the other is singular."
   ]
  },
  {
   "cell_type": "code",
   "execution_count": 8,
   "metadata": {},
   "outputs": [
    {
     "data": {
      "text/plain": [
       "True"
      ]
     },
     "execution_count": 8,
     "metadata": {},
     "output_type": "execute_result"
    }
   ],
   "source": [
    "plural_statement.means(singular_statement)"
   ]
  },
  {
   "cell_type": "markdown",
   "metadata": {},
   "source": [
    "However, sometimes you need to label an Entity as being somehow sui generis, so that Statements about that Entity aren't really applicable to other, generic Entities. In that case, you can set the Entity's `generic` attribute to False and it'll no longer be found to have the same meaning as generic Entities."
   ]
  },
  {
   "cell_type": "code",
   "execution_count": 9,
   "metadata": {},
   "outputs": [
    {
     "data": {
      "text/plain": [
       "False"
      ]
     },
     "execution_count": 9,
     "metadata": {},
     "output_type": "execute_result"
    }
   ],
   "source": [
    "harry_statement = Statement(not_at_school, terms=Entity(\"Harry Potter\", generic=False))\n",
    "harry_statement.means(singular_statement)"
   ]
  },
  {
   "cell_type": "markdown",
   "metadata": {},
   "source": [
    "By default, Entities are generic and Statements are not generic. Both of these defaults can be changed when you create instances of the respective classes."
   ]
  },
  {
   "cell_type": "markdown",
   "metadata": {},
   "source": [
    "## Comparisons"
   ]
  },
  {
   "cell_type": "markdown",
   "metadata": {},
   "source": [
    "The Comparison class extends the concept of a Predicate.\n",
    "A Comparison still contains a truth value and a template string,\n",
    "but that template should be used to identify a quantity that will\n",
    "be compared to an expression using a sign such as an equal sign\n",
    "or a greater-than sign. This expression must be a constant: either\n",
    "an integer, a floating point number, or a physical quantity expressed\n",
    "in units that can be parsed using the pint library."
   ]
  },
  {
   "cell_type": "code",
   "execution_count": 10,
   "metadata": {},
   "outputs": [
    {
     "data": {
      "text/plain": [
       "\"the statement that the weight of <Alice>'s vehicle was greater than 26000 pound\""
      ]
     },
     "execution_count": 10,
     "metadata": {},
     "output_type": "execute_result"
    }
   ],
   "source": [
    "from nettlesome import Comparison\n",
    "\n",
    "weight_in_pounds = Comparison(\"the weight of ${driver}'s vehicle was\", sign=\">\", expression=\"26000 pounds\")\n",
    "pounds_statement = Statement(weight_in_pounds, terms=Entity(\"Alice\"))\n",
    "str(pounds_statement)"
   ]
  },
  {
   "cell_type": "markdown",
   "metadata": {},
   "source": [
    "Statements including Comparisons will handle unit conversions when applying operations like `implies` or `contradicts`."
   ]
  },
  {
   "cell_type": "code",
   "execution_count": 11,
   "metadata": {},
   "outputs": [
    {
     "data": {
      "text/plain": [
       "\"the statement that the weight of <Alice>'s vehicle was no more than 3000 kilogram\""
      ]
     },
     "execution_count": 11,
     "metadata": {},
     "output_type": "execute_result"
    }
   ],
   "source": [
    "weight_in_kilos = Comparison(\"the weight of ${driver}'s vehicle was\", sign=\"<=\", expression=\"3000 kilograms\")\n",
    "kilos_statement = Statement(weight_in_kilos, terms=Entity(\"Alice\"))\n",
    "str(kilos_statement)"
   ]
  },
  {
   "cell_type": "code",
   "execution_count": 12,
   "metadata": {},
   "outputs": [
    {
     "data": {
      "text/plain": [
       "True"
      ]
     },
     "execution_count": 12,
     "metadata": {},
     "output_type": "execute_result"
    }
   ],
   "source": [
    "pounds_statement.contradicts(kilos_statement)"
   ]
  },
  {
   "cell_type": "markdown",
   "metadata": {},
   "source": [
    "### Formatting Comparisons"
   ]
  },
  {
   "cell_type": "markdown",
   "metadata": {},
   "source": [
    "To encourage consistent phrasing, the template string in every\n",
    "Comparison object must end with the word “was”.\n",
    "\n",
    "If you phrase a Comparison with an inequality sign using `truth=False`,\n",
    "Nettlesome will silently modify your statement so it can have\n",
    "`truth=True` with a different sign. In this example, the user’s input\n",
    "indicates that it’s false that the weight of marijuana possessed by a defendant\n",
    "was an ounce or more. Nettlesome interprets this to mean it’s\n",
    "true that the weight was less than one ounce."
   ]
  },
  {
   "cell_type": "code",
   "execution_count": 13,
   "metadata": {},
   "outputs": [
    {
     "data": {
      "text/plain": [
       "'that the weight of marijuana that $defendant possessed was less than 1 ounce'"
      ]
     },
     "execution_count": 13,
     "metadata": {},
     "output_type": "execute_result"
    }
   ],
   "source": [
    "drug_comparison_with_upper_bound = Comparison(\n",
    "   \"the weight of marijuana that $defendant possessed was\",\n",
    "    sign=\">=\",\n",
    "    expression=\"1 ounce\",\n",
    "    truth=False)\n",
    "str(drug_comparison_with_upper_bound)"
   ]
  },
  {
   "cell_type": "markdown",
   "metadata": {},
   "source": [
    "When the number needed for a Comparison isn’t a physical quantity that can be described\n",
    "with the units in the pint library library, you should phrase the text in the template\n",
    "string to explain what the number describes. The template string will still need to\n",
    "end with the word “was”. The value of the expression parameter should be an integer\n",
    "or a floating point number, not a string to be parsed."
   ]
  },
  {
   "cell_type": "code",
   "execution_count": 14,
   "metadata": {},
   "outputs": [
    {
     "data": {
      "text/plain": [
       "\"that the number of children in ${taxpayer}'s household was exactly equal to 3\""
      ]
     },
     "execution_count": 14,
     "metadata": {},
     "output_type": "execute_result"
    }
   ],
   "source": [
    "three_children = Comparison(\n",
    "    \"the number of children in ${taxpayer}'s household was\",\n",
    "    sign=\"=\",\n",
    "    expression=3)\n",
    "str(three_children)"
   ]
  },
  {
   "cell_type": "markdown",
   "metadata": {},
   "source": [
    "## Groups of Statements"
   ]
  },
  {
   "cell_type": "markdown",
   "metadata": {},
   "source": [
    "You can also check to see whether a set of Statements, taken as a group, implies another Statement or group of Statements.\n",
    "\n",
    "Here, the use of placeholders that are identical except for a digit on the end indicates to Nettlesome that the positions of those Terms should be considered interchangeable. (In this example, if `site1` is a certain distance away from `site2`, then `site2` must also be the same distance away from `site1`.)"
   ]
  },
  {
   "cell_type": "code",
   "execution_count": 15,
   "metadata": {},
   "outputs": [
    {
     "data": {
      "text/plain": [
       "'the group of Factors:\\n  the statement that the distance between <the political convention> and <the police cordon> was greater than 100 yard\\n  the statement that the distance between <the police cordon> and <the political convention> was less than 1 mile'"
      ]
     },
     "execution_count": 15,
     "metadata": {},
     "output_type": "execute_result"
    }
   ],
   "source": [
    "from nettlesome import FactorGroup\n",
    "\n",
    "more_than_100_yards = Comparison(\"the distance between $site1 and $site2 was\", sign=\">\", expression=\"100 yards\")\n",
    "less_than_1_mile = Comparison(\"the distance between $site1 and $site2 was\", sign=\"<\", expression=\"1 mile\")\n",
    "\n",
    "protest_facts = FactorGroup(\n",
    "    [Statement(more_than_100_yards, terms=[Entity(\"the political convention\"), Entity(\"the police cordon\")]),\n",
    "     Statement(less_than_1_mile, terms=[Entity(\"the police cordon\"), Entity(\"the political convention\")])]\n",
    ")\n",
    "str(protest_facts)"
   ]
  },
  {
   "cell_type": "code",
   "execution_count": 16,
   "metadata": {},
   "outputs": [
    {
     "data": {
      "text/plain": [
       "True"
      ]
     },
     "execution_count": 16,
     "metadata": {},
     "output_type": "execute_result"
    }
   ],
   "source": [
    "more_than_50_meters = Comparison(\"the distance between $site1 and $site2 was\", sign=\">\", expression=\"50 meters\")\n",
    "less_than_2_km = Comparison(\"the distance between $site1 and $site2 was\", sign=\"<=\", expression=\"2 km\")\n",
    "\n",
    "speech_zone_facts = FactorGroup(\n",
    "    [Statement(more_than_50_meters, terms=[Entity(\"the free speech zone\"), Entity(\"the courthouse\")]),\n",
    "     Statement(less_than_2_km, terms=[Entity(\"the free speech zone\"), Entity(\"the courthouse\")])]\n",
    ")\n",
    "protest_facts.implies(speech_zone_facts)"
   ]
  }
 ],
 "metadata": {
  "kernelspec": {
   "display_name": "venvn",
   "language": "python",
   "name": "venvn"
  },
  "language_info": {
   "codemirror_mode": {
    "name": "ipython",
    "version": 3
   },
   "file_extension": ".py",
   "mimetype": "text/x-python",
   "name": "python",
   "nbconvert_exporter": "python",
   "pygments_lexer": "ipython3",
   "version": "3.9.0"
  }
 },
 "nbformat": 4,
 "nbformat_minor": 4
}
